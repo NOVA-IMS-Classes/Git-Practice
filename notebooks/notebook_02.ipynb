{
 "cells": [
  {
   "cell_type": "markdown",
   "id": "fb2986b5-dc8c-4351-9427-0d852369cd10",
   "metadata": {},
   "source": [
    "# Notebook 2"
   ]
  },
  {
   "cell_type": "code",
   "execution_count": null,
   "id": "056293be-5755-4e8f-bcf7-67431331ab68",
   "metadata": {},
   "outputs": [],
   "source": []
  }
 ],
 "metadata": {
  "kernelspec": {
   "display_name": "Python 3 (ipykernel)",
   "language": "python",
   "name": "python3"
  },
  "language_info": {
   "codemirror_mode": {
    "name": "ipython",
    "version": 3
   },
   "file_extension": ".py",
   "mimetype": "text/x-python",
   "name": "python",
   "nbconvert_exporter": "python",
   "pygments_lexer": "ipython3",
   "version": "3.11.5"
  }
 },
 "nbformat": 4,
 "nbformat_minor": 5
}
